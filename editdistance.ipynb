{
 "cells": [
  {
   "cell_type": "code",
   "execution_count": 4,
   "metadata": {},
   "outputs": [],
   "source": [
    "%matplotlib inline \n",
    "\n",
    "import Levenshtein as Lev\n",
    "\n",
    "import pandas as pd\n",
    "import numpy as np\n",
    "from tqdm import tqdm_notebook\n",
    "from matplotlib import pyplot as plt\n",
    "from collections import Counter\n",
    "\n",
    "import torch\n",
    "from torch import nn\n",
    "from torch import optim\n",
    "from torch.utils.data import TensorDataset, DataLoader\n",
    "\n",
    "from sklearn.metrics import accuracy_score, f1_score\n",
    "\n",
    "import utils\n",
    "import importlib\n",
    "importlib.reload(utils)\n",
    "from utils import *\n",
    "\n",
    "oh_dict = load_dict()"
   ]
  },
  {
   "cell_type": "code",
   "execution_count": 5,
   "metadata": {},
   "outputs": [
    {
     "name": "stdout",
     "output_type": "stream",
     "text": [
      " - Dropped 3106 duplicates\n",
      " - Dropped 62656 duplicates\n",
      " - Removed 15566 sequences\n",
      "80214\n",
      "495796\n"
     ]
    }
   ],
   "source": [
    "df_pos = load_dataset(\"data/GSM3155092_P01_CRVstim_CD8_beta.txt.gz\")\n",
    "df_neg = load_dataset(\"data/GSM3155090_P01_unstim_CD8_beta.txt.gz\")\n",
    "\n",
    "df_neg = filter_specific(df_pos, df_neg)\n",
    "\n",
    "print(len(df_pos))\n",
    "print(len(df_neg))"
   ]
  },
  {
   "cell_type": "code",
   "execution_count": 6,
   "metadata": {},
   "outputs": [
    {
     "name": "stdout",
     "output_type": "stream",
     "text": [
      "41446\n",
      "359824\n"
     ]
    }
   ],
   "source": [
    "df_pos = df_pos.loc[df_pos[\"Read.count\"] != 1, :].reset_index(drop=True)\n",
    "df_neg = df_neg.loc[df_neg[\"Read.count\"] > 2, :].reset_index(drop=True)\n",
    "\n",
    "print(len(df_pos))\n",
    "print(len(df_neg))"
   ]
  },
  {
   "cell_type": "code",
   "execution_count": 7,
   "metadata": {},
   "outputs": [
    {
     "data": {
      "image/png": "[encoded data removed]",
      "text/plain": [
       "<Figure size 432x288 with 1 Axes>"
      ]
     },
     "metadata": {
      "needs_background": "light"
     },
     "output_type": "display_data"
    }
   ],
   "source": [
    "def seq_distance(sources, targets):\n",
    "    dist_list = []\n",
    "    for s in sources:\n",
    "        for t in targets:\n",
    "            dist_list.append(Lev.distance(s, t))\n",
    "    return dist_list\n",
    "\n",
    "distr = seq_distance(list(df_pos[\"CDR3.sequence\"][0:10]), list(df_neg[\"CDR3.sequence\"]))\n",
    "\n",
    "_ = plt.hist(distr)"
   ]
  },
  {
   "cell_type": "code",
   "execution_count": 18,
   "metadata": {},
   "outputs": [
    {
     "data": {
      "image/png": "[encoded data removed]",
      "text/plain": [
       "<Figure size 432x288 with 1 Axes>"
      ]
     },
     "metadata": {
      "needs_background": "light"
     },
     "output_type": "display_data"
    }
   ],
   "source": [
    "from multiprocessing import Pool\n",
    "import itertools\n",
    "\n",
    "def seq_distance2(args):\n",
    "    return [Lev.distance(args[0], t) for t in args[1]]\n",
    "\n",
    "targets = list(df_neg[\"CDR3.sequence\"])\n",
    "i = 100\n",
    "with Pool(processes=2) as pool:\n",
    "    res = pool.map(seq_distance2, zip(list(df_pos[\"CDR3.sequence\"][0:i]), [targets for i in range(i)]))\n",
    "    res = list(itertools.chain.from_iterable(res))\n",
    "    \n",
    "_ = plt.hist(res)"
   ]
  },
  {
   "cell_type": "code",
   "execution_count": 18,
   "metadata": {},
   "outputs": [
    {
     "name": "stdout",
     "output_type": "stream",
     "text": [
      "Counter({9: 1946102, 8: 1715692, 10: 1620138, 7: 1148524, 11: 986210, 6: 613286, 12: 430886, 5: 268092, 13: 133296, 4: 84262, 14: 28556, 3: 15874, 15: 4072, 0: 3000, 2: 1692, 16: 230, 1: 84, 17: 4})\n"
     ]
    },
    {
     "data": {
      "image/png": "[encoded data removed]",
      "text/plain": [
       "<Figure size 432x288 with 1 Axes>"
      ]
     },
     "metadata": {
      "needs_background": "light"
     },
     "output_type": "display_data"
    }
   ],
   "source": [
    "indices = np.random.choice(len(df_neg), 3000, replace=False)\n",
    "df_neg_tmp = df_neg.iloc[indices, :]\n",
    "\n",
    "distr = seq_distance(list(df_neg_tmp[\"CDR3.sequence\"]), list(df_neg_tmp[\"CDR3.sequence\"]))\n",
    "_ = plt.hist(distr)\n",
    "print(Counter(distr))"
   ]
  },
  {
   "cell_type": "code",
   "execution_count": null,
   "metadata": {},
   "outputs": [],
   "source": []
  },
  {
   "cell_type": "code",
   "execution_count": null,
   "metadata": {},
   "outputs": [],
   "source": []
  },
  {
   "cell_type": "code",
   "execution_count": null,
   "metadata": {},
   "outputs": [],
   "source": []
  },
  {
   "cell_type": "code",
   "execution_count": null,
   "metadata": {},
   "outputs": [],
   "source": []
  },
  {
   "cell_type": "code",
   "execution_count": null,
   "metadata": {},
   "outputs": [],
   "source": []
  },
  {
   "cell_type": "code",
   "execution_count": 20,
   "metadata": {},
   "outputs": [
    {
     "name": "stdout",
     "output_type": "stream",
     "text": [
      "5000\n",
      "36446\n",
      "5000\n",
      "354824\n"
     ]
    }
   ],
   "source": [
    "test_size = 5000\n",
    "\n",
    "indices = np.random.choice(len(df_pos), test_size, replace=False)\n",
    "df_pos_test = df_pos.iloc[indices, :]\n",
    "df_pos_train = df_pos.drop(indices)\n",
    "\n",
    "print(len(df_pos_test))\n",
    "print(len(df_pos_train))\n",
    "\n",
    "indices = np.random.choice(len(df_neg), test_size, replace=False)\n",
    "df_neg_test = df_neg.iloc[indices, :]\n",
    "df_neg_train = df_neg.drop(indices)\n",
    "\n",
    "print(len(df_neg_test))\n",
    "print(len(df_neg_train))"
   ]
  },
  {
   "cell_type": "code",
   "execution_count": 5,
   "metadata": {},
   "outputs": [
    {
     "data": {
      "text/plain": [
       "Text(0.5, 1.0, 'test- train+')"
      ]
     },
     "execution_count": 5,
     "metadata": {},
     "output_type": "execute_result"
    },
    {
     "data": {
      "image/png": "[encoded data removed]",
      "text/plain": [
       "<Figure size 864x576 with 4 Axes>"
      ]
     },
     "metadata": {
      "needs_background": "light"
     },
     "output_type": "display_data"
    }
   ],
   "source": [
    "fig, ax = plt.subplots(2, 2)\n",
    "fig.set_figheight(8)\n",
    "fig.set_figwidth(12)\n",
    "\n",
    "distr = []\n",
    "distr.append(seq_distance(df_pos_test[\"CDR3.sequence\"], df_pos_train[\"CDR3.sequence\"]))\n",
    "ax[0][0].hist(distr[-1], bins=20)\n",
    "ax[0][0].set_title(\"test+ train+\")\n",
    "\n",
    "# ax[0][1].hist(seq_distance(df_neg_test[\"CDR3.sequence\"], df_neg_train[\"CDR3.sequence\"]), bins=20)\n",
    "# ax[0][1].set_title(\"test- train-\")\n",
    "\n",
    "# ax[1][0].hist(seq_distance(df_pos_test[\"CDR3.sequence\"], df_neg_train[\"CDR3.sequence\"]), bins=20)\n",
    "# ax[1][0].set_title(\"test+ train-\")\n",
    "\n",
    "distr.append(seq_distance(df_neg_test[\"CDR3.sequence\"], df_pos_train[\"CDR3.sequence\"]))\n",
    "ax[1][1].hist(distr[-1], bins=20)\n",
    "ax[1][1].set_title(\"test- train+\")"
   ]
  },
  {
   "cell_type": "code",
   "execution_count": 6,
   "metadata": {},
   "outputs": [
    {
     "data": {
      "text/plain": [
       "Counter({3: 2044912, 2: 260763, 1: 16110})"
      ]
     },
     "execution_count": 6,
     "metadata": {},
     "output_type": "execute_result"
    }
   ],
   "source": [
    "tmp = np.array(distr[0])\n",
    "tmp = tmp[tmp < 4]\n",
    "Counter(tmp)"
   ]
  },
  {
   "cell_type": "code",
   "execution_count": 13,
   "metadata": {},
   "outputs": [
    {
     "data": {
      "text/plain": [
       "(array([1.61100000e+04, 0.00000000e+00, 0.00000000e+00, 0.00000000e+00,\n",
       "        0.00000000e+00, 2.60763000e+05, 0.00000000e+00, 0.00000000e+00,\n",
       "        0.00000000e+00, 0.00000000e+00, 0.00000000e+00, 2.04491200e+06,\n",
       "        0.00000000e+00, 0.00000000e+00, 0.00000000e+00, 0.00000000e+00,\n",
       "        0.00000000e+00, 8.88429100e+06, 0.00000000e+00, 0.00000000e+00,\n",
       "        0.00000000e+00, 0.00000000e+00, 0.00000000e+00, 2.50926060e+07,\n",
       "        0.00000000e+00, 0.00000000e+00, 0.00000000e+00, 0.00000000e+00,\n",
       "        0.00000000e+00, 5.40535860e+07, 0.00000000e+00, 0.00000000e+00,\n",
       "        0.00000000e+00, 0.00000000e+00, 0.00000000e+00, 9.65348460e+07,\n",
       "        0.00000000e+00, 0.00000000e+00, 0.00000000e+00, 0.00000000e+00,\n",
       "        0.00000000e+00, 1.38348647e+08, 0.00000000e+00, 0.00000000e+00,\n",
       "        0.00000000e+00, 0.00000000e+00, 0.00000000e+00, 1.49193867e+08,\n",
       "        0.00000000e+00, 0.00000000e+00, 0.00000000e+00, 0.00000000e+00,\n",
       "        1.17154720e+08, 0.00000000e+00, 0.00000000e+00, 0.00000000e+00,\n",
       "        0.00000000e+00, 0.00000000e+00, 6.82391810e+07, 0.00000000e+00,\n",
       "        0.00000000e+00, 0.00000000e+00, 0.00000000e+00, 0.00000000e+00,\n",
       "        2.99573500e+07, 0.00000000e+00, 0.00000000e+00, 0.00000000e+00,\n",
       "        0.00000000e+00, 0.00000000e+00, 9.71148100e+06, 0.00000000e+00,\n",
       "        0.00000000e+00, 0.00000000e+00, 0.00000000e+00, 0.00000000e+00,\n",
       "        2.27418500e+06, 0.00000000e+00, 0.00000000e+00, 0.00000000e+00,\n",
       "        0.00000000e+00, 0.00000000e+00, 3.49342000e+05, 0.00000000e+00,\n",
       "        0.00000000e+00, 0.00000000e+00, 0.00000000e+00, 0.00000000e+00,\n",
       "        2.37520000e+04, 0.00000000e+00, 0.00000000e+00, 0.00000000e+00,\n",
       "        0.00000000e+00, 0.00000000e+00, 3.59000000e+02, 0.00000000e+00,\n",
       "        0.00000000e+00, 0.00000000e+00, 0.00000000e+00, 2.00000000e+00]),\n",
       " array([ 1.  ,  1.17,  1.34,  1.51,  1.68,  1.85,  2.02,  2.19,  2.36,\n",
       "         2.53,  2.7 ,  2.87,  3.04,  3.21,  3.38,  3.55,  3.72,  3.89,\n",
       "         4.06,  4.23,  4.4 ,  4.57,  4.74,  4.91,  5.08,  5.25,  5.42,\n",
       "         5.59,  5.76,  5.93,  6.1 ,  6.27,  6.44,  6.61,  6.78,  6.95,\n",
       "         7.12,  7.29,  7.46,  7.63,  7.8 ,  7.97,  8.14,  8.31,  8.48,\n",
       "         8.65,  8.82,  8.99,  9.16,  9.33,  9.5 ,  9.67,  9.84, 10.01,\n",
       "        10.18, 10.35, 10.52, 10.69, 10.86, 11.03, 11.2 , 11.37, 11.54,\n",
       "        11.71, 11.88, 12.05, 12.22, 12.39, 12.56, 12.73, 12.9 , 13.07,\n",
       "        13.24, 13.41, 13.58, 13.75, 13.92, 14.09, 14.26, 14.43, 14.6 ,\n",
       "        14.77, 14.94, 15.11, 15.28, 15.45, 15.62, 15.79, 15.96, 16.13,\n",
       "        16.3 , 16.47, 16.64, 16.81, 16.98, 17.15, 17.32, 17.49, 17.66,\n",
       "        17.83, 18.  ]),\n",
       " <a list of 1 Patch objects>)"
      ]
     },
     "execution_count": 13,
     "metadata": {},
     "output_type": "execute_result"
    },
    {
     "data": {
      "image/png": "[encoded data removed]",
      "text/plain": [
       "<Figure size 432x288 with 1 Axes>"
      ]
     },
     "metadata": {
      "needs_background": "light"
     },
     "output_type": "display_data"
    }
   ],
   "source": [
    "plt.hist(distr[0], bins=100, histtype=\"step\")"
   ]
  },
  {
   "cell_type": "code",
   "execution_count": 7,
   "metadata": {},
   "outputs": [
    {
     "data": {
      "text/plain": [
       "Counter({3: 1473806, 1: 7824, 2: 157321})"
      ]
     },
     "execution_count": 7,
     "metadata": {},
     "output_type": "execute_result"
    }
   ],
   "source": [
    "tmp = np.array(distr[1])\n",
    "tmp = tmp[tmp < 4]\n",
    "Counter(tmp)"
   ]
  },
  {
   "cell_type": "code",
   "execution_count": 14,
   "metadata": {},
   "outputs": [
    {
     "data": {
      "text/plain": [
       "(array([7.82400000e+03, 0.00000000e+00, 0.00000000e+00, 0.00000000e+00,\n",
       "        0.00000000e+00, 1.57321000e+05, 0.00000000e+00, 0.00000000e+00,\n",
       "        0.00000000e+00, 0.00000000e+00, 0.00000000e+00, 1.47380600e+06,\n",
       "        0.00000000e+00, 0.00000000e+00, 0.00000000e+00, 0.00000000e+00,\n",
       "        0.00000000e+00, 7.31151200e+06, 0.00000000e+00, 0.00000000e+00,\n",
       "        0.00000000e+00, 0.00000000e+00, 0.00000000e+00, 2.21524020e+07,\n",
       "        0.00000000e+00, 0.00000000e+00, 0.00000000e+00, 0.00000000e+00,\n",
       "        0.00000000e+00, 4.92492470e+07, 0.00000000e+00, 0.00000000e+00,\n",
       "        0.00000000e+00, 0.00000000e+00, 0.00000000e+00, 9.06250400e+07,\n",
       "        0.00000000e+00, 0.00000000e+00, 0.00000000e+00, 0.00000000e+00,\n",
       "        0.00000000e+00, 1.34859361e+08, 0.00000000e+00, 0.00000000e+00,\n",
       "        0.00000000e+00, 0.00000000e+00, 0.00000000e+00, 1.51638407e+08,\n",
       "        0.00000000e+00, 0.00000000e+00, 0.00000000e+00, 0.00000000e+00,\n",
       "        1.23706503e+08, 0.00000000e+00, 0.00000000e+00, 0.00000000e+00,\n",
       "        0.00000000e+00, 0.00000000e+00, 7.39936260e+07, 0.00000000e+00,\n",
       "        0.00000000e+00, 0.00000000e+00, 0.00000000e+00, 0.00000000e+00,\n",
       "        3.31418490e+07, 0.00000000e+00, 0.00000000e+00, 0.00000000e+00,\n",
       "        0.00000000e+00, 0.00000000e+00, 1.09551870e+07, 0.00000000e+00,\n",
       "        0.00000000e+00, 0.00000000e+00, 0.00000000e+00, 0.00000000e+00,\n",
       "        2.51044400e+06, 0.00000000e+00, 0.00000000e+00, 0.00000000e+00,\n",
       "        0.00000000e+00, 0.00000000e+00, 3.38197000e+05, 0.00000000e+00,\n",
       "        0.00000000e+00, 0.00000000e+00, 0.00000000e+00, 0.00000000e+00,\n",
       "        1.89340000e+04, 0.00000000e+00, 0.00000000e+00, 0.00000000e+00,\n",
       "        0.00000000e+00, 0.00000000e+00, 3.35000000e+02, 0.00000000e+00,\n",
       "        0.00000000e+00, 0.00000000e+00, 0.00000000e+00, 5.00000000e+00]),\n",
       " array([ 1.  ,  1.17,  1.34,  1.51,  1.68,  1.85,  2.02,  2.19,  2.36,\n",
       "         2.53,  2.7 ,  2.87,  3.04,  3.21,  3.38,  3.55,  3.72,  3.89,\n",
       "         4.06,  4.23,  4.4 ,  4.57,  4.74,  4.91,  5.08,  5.25,  5.42,\n",
       "         5.59,  5.76,  5.93,  6.1 ,  6.27,  6.44,  6.61,  6.78,  6.95,\n",
       "         7.12,  7.29,  7.46,  7.63,  7.8 ,  7.97,  8.14,  8.31,  8.48,\n",
       "         8.65,  8.82,  8.99,  9.16,  9.33,  9.5 ,  9.67,  9.84, 10.01,\n",
       "        10.18, 10.35, 10.52, 10.69, 10.86, 11.03, 11.2 , 11.37, 11.54,\n",
       "        11.71, 11.88, 12.05, 12.22, 12.39, 12.56, 12.73, 12.9 , 13.07,\n",
       "        13.24, 13.41, 13.58, 13.75, 13.92, 14.09, 14.26, 14.43, 14.6 ,\n",
       "        14.77, 14.94, 15.11, 15.28, 15.45, 15.62, 15.79, 15.96, 16.13,\n",
       "        16.3 , 16.47, 16.64, 16.81, 16.98, 17.15, 17.32, 17.49, 17.66,\n",
       "        17.83, 18.  ]),\n",
       " <a list of 1 Patch objects>)"
      ]
     },
     "execution_count": 14,
     "metadata": {},
     "output_type": "execute_result"
    },
    {
     "data": {
      "image/png": "[encoded data removed]",
      "text/plain": [
       "<Figure size 432x288 with 1 Axes>"
      ]
     },
     "metadata": {
      "needs_background": "light"
     },
     "output_type": "display_data"
    }
   ],
   "source": [
    "plt.hist(distr[-1], bins=100, histtype=\"step\")"
   ]
  }
 ],
 "metadata": {
  "kernelspec": {
   "display_name": "Python 3",
   "language": "python",
   "name": "python3"
  },
  "language_info": {
   "codemirror_mode": {
    "name": "ipython",
    "version": 3
   },
   "file_extension": ".py",
   "mimetype": "text/x-python",
   "name": "python",
   "nbconvert_exporter": "python",
   "pygments_lexer": "ipython3",
   "version": "3.6.9"
  }
 },
 "nbformat": 4,
 "nbformat_minor": 4
}
